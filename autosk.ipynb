{
 "cells": [
  {
   "cell_type": "code",
   "execution_count": 77,
   "metadata": {},
   "outputs": [],
   "source": [
    "import sklearn.model_selection\n",
    "import sklearn.datasets\n",
    "import sklearn.metrics\n",
    "import pandas as pd\n",
    "import autosklearn.classification\n",
    "import os\n",
    "import featuretools as ft\n",
    "import warnings\n",
    "warnings.filterwarnings('ignore')"
   ]
  },
  {
   "cell_type": "code",
   "execution_count": 86,
   "metadata": {},
   "outputs": [],
   "source": [
    "def run_as(X, y, target_ft, time_budget=30, include_preprocessors = None):\n",
    "    try:\n",
    "        os.remove('/tmp/autosklearn_regression_example_tmp')\n",
    "        os.remove('/tmp/autosklearn_regression_example_out')\n",
    "    except:\n",
    "        pass\n",
    "    #X = df.drop(columns=target_ft)\n",
    "    #y = df[target_ft]\n",
    "    X_train, X_test, y_train, y_test = sklearn.model_selection.train_test_split(X, y, random_state=1)\n",
    "    automl = autosklearn.classification.AutoSklearnClassifier(\n",
    "        time_left_for_this_task=time_budget,\n",
    "        per_run_time_limit=30,\n",
    "        tmp_folder='./tmp/autosklearn_regression_example_tmp',\n",
    "        output_folder='./tmp/autosklearn_regression_example_out',\n",
    "        include_preprocessors = include_preprocessors\n",
    "    )\n",
    "    automl.fit(X_train, y_train)\n",
    "    y_hat = automl.predict(X_test)\n",
    "    return \"Accuracy score - \" + str(sklearn.metrics.accuracy_score(y_test, y_hat))\n",
    "    \n",
    "    \n",
    "def gen_feats(df):\n",
    "    es = ft.EntitySet(id = 'df')\n",
    "    es.entity_from_dataframe(entity_id = 'data', dataframe = df, \n",
    "                         make_index = True, index = 'index')\n",
    "    feature_matrix, feature_defs = ft.dfs(entityset = es, target_entity = 'data',\n",
    "                                      trans_primitives = ['add_numeric', 'multiply_numeric'])\n",
    "    return feature_matrix\n",
    "\n",
    "def run_test(df,target_ft, mode = 0, time_budget=30):\n",
    "    results = []\n",
    "    X = df.drop(columns=target_ft)\n",
    "    y = df[target_ft]\n",
    "    if mode!= 1:\n",
    "        rs = run_as(X,y,target_ft, include_preprocessors=None )   \n",
    "        results.append(\"Autosk Only with Preprocessing: \" + rs)\n",
    "    if mode!=0:\n",
    "        rs = run_as(X,y,target_ft, include_preprocessors =[\"no_preprocessing\"])\n",
    "        results.append(\"Autosk Only without Preprocessing: \" + rs)\n",
    "    if mode!=0:\n",
    "        X = gen_feats(X)\n",
    "        rs = run_as(X,y,target_ft, include_preprocessors =[\"no_preprocessing\"])\n",
    "        results.append(\"Autosk with Featuretools: \" + rs)    \n",
    "    \n",
    "    \n",
    "    print(\"===================================\")\n",
    "    [print(x) for x in results]"
   ]
  },
  {
   "cell_type": "code",
   "execution_count": 87,
   "metadata": {},
   "outputs": [
    {
     "name": "stdout",
     "output_type": "stream",
     "text": [
      "[WARNING] [2020-07-13 10:36:46,802:AutoML(1):828fa7cf24a4202d3c29fc1fbc4b82b7] Time limit for a single run is higher than total time limit. Capping the limit for a single run to the total time given to SMAC (29.600411)\n",
      "[WARNING] [2020-07-13 10:36:46,806:AutoML(1):828fa7cf24a4202d3c29fc1fbc4b82b7] Capping the per_run_time_limit to 14.0 to have time for a least 2 models in each process.\n",
      "[WARNING] [2020-07-13 10:36:50,843:EnsembleBuilder(1):828fa7cf24a4202d3c29fc1fbc4b82b7] No models better than random - using Dummy Score!Number of models besides current dummy model: 2. Number of dummy models: 1\n",
      "[WARNING] [2020-07-13 10:36:52,857:EnsembleBuilder(1):828fa7cf24a4202d3c29fc1fbc4b82b7] No models better than random - using Dummy Score!Number of models besides current dummy model: 5. Number of dummy models: 1\n",
      "[WARNING] [2020-07-13 10:36:54,871:EnsembleBuilder(1):828fa7cf24a4202d3c29fc1fbc4b82b7] No models better than random - using Dummy Score!Number of models besides current dummy model: 8. Number of dummy models: 1\n",
      "[WARNING] [2020-07-13 10:36:56,884:EnsembleBuilder(1):828fa7cf24a4202d3c29fc1fbc4b82b7] No models better than random - using Dummy Score!Number of models besides current dummy model: 9. Number of dummy models: 1\n",
      "[WARNING] [2020-07-13 10:37:12,911:AutoML(1):828fa7cf24a4202d3c29fc1fbc4b82b7] Time limit for a single run is higher than total time limit. Capping the limit for a single run to the total time given to SMAC (29.741821)\n",
      "[WARNING] [2020-07-13 10:37:12,914:AutoML(1):828fa7cf24a4202d3c29fc1fbc4b82b7] Capping the per_run_time_limit to 14.0 to have time for a least 2 models in each process.\n",
      "[WARNING] [2020-07-13 10:37:14,948:EnsembleBuilder(1):828fa7cf24a4202d3c29fc1fbc4b82b7] No models better than random - using Dummy Score!Number of models besides current dummy model: 1. Number of dummy models: 1\n",
      "[WARNING] [2020-07-13 10:37:16,964:EnsembleBuilder(1):828fa7cf24a4202d3c29fc1fbc4b82b7] No models better than random - using Dummy Score!Number of models besides current dummy model: 4. Number of dummy models: 1\n",
      "[WARNING] [2020-07-13 10:37:18,979:EnsembleBuilder(1):828fa7cf24a4202d3c29fc1fbc4b82b7] No models better than random - using Dummy Score!Number of models besides current dummy model: 6. Number of dummy models: 1\n",
      "[WARNING] [2020-07-13 10:37:20,992:EnsembleBuilder(1):828fa7cf24a4202d3c29fc1fbc4b82b7] No models better than random - using Dummy Score!Number of models besides current dummy model: 8. Number of dummy models: 1\n",
      "[WARNING] [2020-07-13 10:37:23,008:EnsembleBuilder(1):828fa7cf24a4202d3c29fc1fbc4b82b7] No models better than random - using Dummy Score!Number of models besides current dummy model: 11. Number of dummy models: 1\n",
      "[WARNING] [2020-07-13 10:37:25,023:EnsembleBuilder(1):828fa7cf24a4202d3c29fc1fbc4b82b7] No models better than random - using Dummy Score!Number of models besides current dummy model: 12. Number of dummy models: 1\n",
      "[WARNING] [2020-07-13 10:37:27,039:EnsembleBuilder(1):828fa7cf24a4202d3c29fc1fbc4b82b7] No models better than random - using Dummy Score!Number of models besides current dummy model: 13. Number of dummy models: 1\n",
      "[WARNING] [2020-07-13 10:37:29,048:EnsembleBuilder(1):828fa7cf24a4202d3c29fc1fbc4b82b7] No models better than random - using Dummy Score!Number of models besides current dummy model: 13. Number of dummy models: 1\n",
      "[WARNING] [2020-07-13 10:37:31,058:EnsembleBuilder(1):828fa7cf24a4202d3c29fc1fbc4b82b7] No models better than random - using Dummy Score!Number of models besides current dummy model: 13. Number of dummy models: 1\n",
      "[WARNING] [2020-07-13 10:37:33,067:EnsembleBuilder(1):828fa7cf24a4202d3c29fc1fbc4b82b7] No models better than random - using Dummy Score!Number of models besides current dummy model: 13. Number of dummy models: 1\n",
      "[WARNING] [2020-07-13 10:37:35,082:EnsembleBuilder(1):828fa7cf24a4202d3c29fc1fbc4b82b7] No models better than random - using Dummy Score!Number of models besides current dummy model: 13. Number of dummy models: 1\n",
      "[WARNING] [2020-07-13 10:37:37,408:AutoML(1):5dd6a66ea1f1dd8a0696f2318002ec53] Time limit for a single run is higher than total time limit. Capping the limit for a single run to the total time given to SMAC (29.667610)\n",
      "[WARNING] [2020-07-13 10:37:37,412:AutoML(1):5dd6a66ea1f1dd8a0696f2318002ec53] Capping the per_run_time_limit to 14.0 to have time for a least 2 models in each process.\n",
      "[WARNING] [2020-07-13 10:37:41,453:EnsembleBuilder(1):5dd6a66ea1f1dd8a0696f2318002ec53] No models better than random - using Dummy Score!Number of models besides current dummy model: 3. Number of dummy models: 1\n",
      "[WARNING] [2020-07-13 10:37:43,468:EnsembleBuilder(1):5dd6a66ea1f1dd8a0696f2318002ec53] No models better than random - using Dummy Score!Number of models besides current dummy model: 4. Number of dummy models: 1\n",
      "[WARNING] [2020-07-13 10:37:45,484:EnsembleBuilder(1):5dd6a66ea1f1dd8a0696f2318002ec53] No models better than random - using Dummy Score!Number of models besides current dummy model: 5. Number of dummy models: 1\n",
      "[WARNING] [2020-07-13 10:37:47,496:EnsembleBuilder(1):5dd6a66ea1f1dd8a0696f2318002ec53] No models better than random - using Dummy Score!Number of models besides current dummy model: 6. Number of dummy models: 1\n",
      "[WARNING] [2020-07-13 10:37:49,512:EnsembleBuilder(1):5dd6a66ea1f1dd8a0696f2318002ec53] No models better than random - using Dummy Score!Number of models besides current dummy model: 7. Number of dummy models: 1\n",
      "[WARNING] [2020-07-13 10:37:51,529:EnsembleBuilder(1):5dd6a66ea1f1dd8a0696f2318002ec53] No models better than random - using Dummy Score!Number of models besides current dummy model: 10. Number of dummy models: 1\n",
      "[WARNING] [2020-07-13 10:37:53,540:EnsembleBuilder(1):5dd6a66ea1f1dd8a0696f2318002ec53] No models better than random - using Dummy Score!Number of models besides current dummy model: 11. Number of dummy models: 1\n",
      "[WARNING] [2020-07-13 10:37:55,552:EnsembleBuilder(1):5dd6a66ea1f1dd8a0696f2318002ec53] No models better than random - using Dummy Score!Number of models besides current dummy model: 12. Number of dummy models: 1\n",
      "[WARNING] [2020-07-13 10:37:57,563:EnsembleBuilder(1):5dd6a66ea1f1dd8a0696f2318002ec53] No models better than random - using Dummy Score!Number of models besides current dummy model: 12. Number of dummy models: 1\n",
      "[WARNING] [2020-07-13 10:37:59,571:EnsembleBuilder(1):5dd6a66ea1f1dd8a0696f2318002ec53] No models better than random - using Dummy Score!Number of models besides current dummy model: 12. Number of dummy models: 1\n",
      "===================================\n",
      "Autosk Only with Preprocessing: Accuracy score - 0.7754010695187166\n",
      "Autosk Only without Preprocessing: Accuracy score - 0.732620320855615\n",
      "Autosk with Featuretools: Accuracy score - 0.732620320855615\n"
     ]
    }
   ],
   "source": [
    "df = pd.read_csv(\"blood.csv\")\n",
    "target_ft = \"class\"\n",
    "run_test(df, target_ft, mode=2, time_budget=60)"
   ]
  },
  {
   "cell_type": "code",
   "execution_count": 85,
   "metadata": {},
   "outputs": [
    {
     "name": "stdout",
     "output_type": "stream",
     "text": [
      "[WARNING] [2020-07-13 10:33:30,581:AutoML(1):e2533b21a92f20edcc0be10c40ace137] Time limit for a single run is higher than total time limit. Capping the limit for a single run to the total time given to SMAC (29.608274)\n",
      "[WARNING] [2020-07-13 10:33:30,585:AutoML(1):e2533b21a92f20edcc0be10c40ace137] Capping the per_run_time_limit to 14.0 to have time for a least 2 models in each process.\n",
      "\n",
      "[WARNING] [2020-07-13 10:33:59,261:AutoML(1):7f055245b5a1b700be3b9f7176e7bc82] Time limit for a single run is higher than total time limit. Capping the limit for a single run to the total time given to SMAC (29.630396)\n",
      "[WARNING] [2020-07-13 10:33:59,265:AutoML(1):7f055245b5a1b700be3b9f7176e7bc82] Capping the per_run_time_limit to 14.0 to have time for a least 2 models in each process.\n",
      "===================================\n",
      "Autosk Only: Accuracy score - 0.6825\n",
      "Autosk with Featuretools: Accuracy score - 0.6625\n"
     ]
    }
   ],
   "source": [
    "df = pd.read_csv(\"winequality-red.csv\")\n",
    "target_ft = \"quality\"\n",
    "run_test(df, target_ft, mode=2 ,time_budget=60)"
   ]
  },
  {
   "cell_type": "code",
   "execution_count": 42,
   "metadata": {},
   "outputs": [],
   "source": [
    "df = pd.read_csv(\"blood.csv\")\n",
    "target_ft = \"class\"\n",
    "df = gen_feats(df.drop(columns=target_ft))"
   ]
  },
  {
   "cell_type": "code",
   "execution_count": 73,
   "metadata": {},
   "outputs": [],
   "source": [
    "!rm -r tmp"
   ]
  },
  {
   "cell_type": "code",
   "execution_count": null,
   "metadata": {},
   "outputs": [],
   "source": []
  }
 ],
 "metadata": {
  "kernelspec": {
   "display_name": "Python 3",
   "language": "python",
   "name": "python3"
  },
  "language_info": {
   "codemirror_mode": {
    "name": "ipython",
    "version": 3
   },
   "file_extension": ".py",
   "mimetype": "text/x-python",
   "name": "python",
   "nbconvert_exporter": "python",
   "pygments_lexer": "ipython3",
   "version": "3.6.9"
  }
 },
 "nbformat": 4,
 "nbformat_minor": 2
}
