{
 "cells": [
  {
   "cell_type": "code",
   "execution_count": 12,
   "metadata": {},
   "outputs": [],
   "source": [
    "import sklearn.model_selection\n",
    "import sklearn.datasets\n",
    "import sklearn.metrics\n",
    "import pandas as pd\n",
    "import autosklearn.classification\n",
    "import os\n",
    "import featuretools as ft\n"
   ]
  },
  {
   "cell_type": "code",
   "execution_count": 13,
   "metadata": {},
   "outputs": [],
   "source": [
    "def run_as(df, target_ft):\n",
    "    try:\n",
    "        os.remove('/tmp/autosklearn_regression_example_tmp')\n",
    "        os.remove('/tmp/autosklearn_regression_example_out')\n",
    "    except:\n",
    "        pass\n",
    "    X = df.drop(columns=target_ft)\n",
    "    y = df[target_ft]\n",
    "    X_train, X_test, y_train, y_test = sklearn.model_selection.train_test_split(X, y, random_state=1)\n",
    "    automl = autosklearn.classification.AutoSklearnClassifier(\n",
    "        time_left_for_this_task=30,\n",
    "        per_run_time_limit=30,\n",
    "        tmp_folder='./tmp/autosklearn_regression_example_tmp',\n",
    "        output_folder='./tmp/autosklearn_regression_example_out',\n",
    "    )\n",
    "    automl.fit(X_train, y_train)\n",
    "    y_hat = automl.predict(X_test)\n",
    "    print(\"Accuracy score\", sklearn.metrics.accuracy_score(y_test, y_hat))"
   ]
  },
  {
   "cell_type": "code",
   "execution_count": 14,
   "metadata": {},
   "outputs": [],
   "source": [
    "def gen_feats(df):\n",
    "    es = ft.EntitySet(id = 'df')\n",
    "    es.entity_from_dataframe(entity_id = 'data', dataframe = df, \n",
    "                         make_index = True, index = 'index')\n",
    "    feature_matrix, feature_defs = ft.dfs(entityset = es, target_entity = 'data',\n",
    "                                      trans_primitives = ['add_numeric', 'multiply_numeric'])\n",
    "    return feature_matrix"
   ]
  },
  {
   "cell_type": "code",
   "execution_count": 15,
   "metadata": {},
   "outputs": [],
   "source": [
    "df = pd.read_csv(\"blood.csv\")\n",
    "target_ft = \"class\""
   ]
  },
  {
   "cell_type": "code",
   "execution_count": 16,
   "metadata": {},
   "outputs": [],
   "source": [
    "#run_as(df,target_ft)"
   ]
  },
  {
   "cell_type": "code",
   "execution_count": 20,
   "metadata": {},
   "outputs": [
    {
     "name": "stdout",
     "output_type": "stream",
     "text": [
      "[WARNING] [2020-07-12 22:21:34,701:AutoML(1):a53eb68b3039381535b37d5d93165fbf] Time limit for a single run is higher than total time limit. Capping the limit for a single run to the total time given to SMAC (29.571127)\n",
      "[WARNING] [2020-07-12 22:21:34,705:AutoML(1):a53eb68b3039381535b37d5d93165fbf] Capping the per_run_time_limit to 14.0 to have time for a least 2 models in each process.\n",
      "[WARNING] [2020-07-12 22:21:52,662:smac.runhistory.runhistory2epm.RunHistory2EPM4LogCost] Got cost of smaller/equal to 0. Replace by 0.000010 since we use log cost.\n",
      "Accuracy score 1.0\n"
     ]
    }
   ],
   "source": [
    "#df_g = gen_feats(df)\n",
    "run_as(df_g,target_ft)"
   ]
  },
  {
   "cell_type": "code",
   "execution_count": null,
   "metadata": {},
   "outputs": [],
   "source": []
  }
 ],
 "metadata": {
  "kernelspec": {
   "display_name": "Python 3",
   "language": "python",
   "name": "python3"
  },
  "language_info": {
   "codemirror_mode": {
    "name": "ipython",
    "version": 3
   },
   "file_extension": ".py",
   "mimetype": "text/x-python",
   "name": "python",
   "nbconvert_exporter": "python",
   "pygments_lexer": "ipython3",
   "version": "3.6.9"
  }
 },
 "nbformat": 4,
 "nbformat_minor": 2
}
