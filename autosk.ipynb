{
 "cells": [
  {
   "cell_type": "code",
   "execution_count": 30,
   "metadata": {},
   "outputs": [],
   "source": [
    "import sklearn.model_selection\n",
    "import sklearn.datasets\n",
    "import sklearn.metrics\n",
    "import pandas as pd\n",
    "import autosklearn.classification\n",
    "import os\n",
    "import featuretools as ft\n",
    "import warnings\n",
    "warnings.filterwarnings('ignore')"
   ]
  },
  {
   "cell_type": "code",
   "execution_count": 34,
   "metadata": {},
   "outputs": [],
   "source": [
    "def run_as(df, target_ft):\n",
    "    try:\n",
    "        os.remove('/tmp/autosklearn_regression_example_tmp')\n",
    "        os.remove('/tmp/autosklearn_regression_example_out')\n",
    "    except:\n",
    "        pass\n",
    "    X = df.drop(columns=target_ft)\n",
    "    y = df[target_ft]\n",
    "    X_train, X_test, y_train, y_test = sklearn.model_selection.train_test_split(X, y, random_state=1)\n",
    "    automl = autosklearn.classification.AutoSklearnClassifier(\n",
    "        time_left_for_this_task=30,\n",
    "        per_run_time_limit=30,\n",
    "        tmp_folder='./tmp/autosklearn_regression_example_tmp',\n",
    "        output_folder='./tmp/autosklearn_regression_example_out',\n",
    "    )\n",
    "    automl.fit(X_train, y_train)\n",
    "    y_hat = automl.predict(X_test)\n",
    "    return \"Accuracy score - \" + str(sklearn.metrics.accuracy_score(y_test, y_hat))\n",
    "    \n",
    "    \n",
    "def gen_feats(df):\n",
    "    es = ft.EntitySet(id = 'df')\n",
    "    es.entity_from_dataframe(entity_id = 'data', dataframe = df, \n",
    "                         make_index = True, index = 'index')\n",
    "    feature_matrix, feature_defs = ft.dfs(entityset = es, target_entity = 'data',\n",
    "                                      trans_primitives = ['add_numeric', 'multiply_numeric'])\n",
    "    return feature_matrix\n",
    "\n",
    "def run_test(df,target_ft, mode = 0):\n",
    "    results = []\n",
    "    if mode!= 1:\n",
    "        rs = run_as(df,target_ft)   \n",
    "        results.append(\"Autosk Only: \" + rs)\n",
    "    if mode!=0:\n",
    "        print(\"\")\n",
    "        df = gen_feats(df)\n",
    "        rs = run_as(df,target_ft)\n",
    "        results.append(\"Autosk with Featuretools: \" + rs)\n",
    "    \n",
    "    print(\"===================================\")\n",
    "    [print(x) for x in results]"
   ]
  },
  {
   "cell_type": "code",
   "execution_count": 35,
   "metadata": {},
   "outputs": [
    {
     "name": "stdout",
     "output_type": "stream",
     "text": [
      "[WARNING] [2020-07-12 23:06:49,438:AutoML(1):828fa7cf24a4202d3c29fc1fbc4b82b7] Time limit for a single run is higher than total time limit. Capping the limit for a single run to the total time given to SMAC (29.598984)\n",
      "[WARNING] [2020-07-12 23:06:49,442:AutoML(1):828fa7cf24a4202d3c29fc1fbc4b82b7] Capping the per_run_time_limit to 14.0 to have time for a least 2 models in each process.\n",
      "[WARNING] [2020-07-12 23:06:53,480:EnsembleBuilder(1):828fa7cf24a4202d3c29fc1fbc4b82b7] No models better than random - using Dummy Score!Number of models besides current dummy model: 1. Number of dummy models: 1\n",
      "[WARNING] [2020-07-12 23:06:55,493:EnsembleBuilder(1):828fa7cf24a4202d3c29fc1fbc4b82b7] No models better than random - using Dummy Score!Number of models besides current dummy model: 5. Number of dummy models: 1\n",
      "[WARNING] [2020-07-12 23:06:57,508:EnsembleBuilder(1):828fa7cf24a4202d3c29fc1fbc4b82b7] No models better than random - using Dummy Score!Number of models besides current dummy model: 7. Number of dummy models: 1\n",
      "[WARNING] [2020-07-12 23:06:59,524:EnsembleBuilder(1):828fa7cf24a4202d3c29fc1fbc4b82b7] No models better than random - using Dummy Score!Number of models besides current dummy model: 9. Number of dummy models: 1\n",
      "\n",
      "[WARNING] [2020-07-12 23:07:17,266:AutoML(1):a53eb68b3039381535b37d5d93165fbf] Time limit for a single run is higher than total time limit. Capping the limit for a single run to the total time given to SMAC (29.594988)\n",
      "[WARNING] [2020-07-12 23:07:17,270:AutoML(1):a53eb68b3039381535b37d5d93165fbf] Capping the per_run_time_limit to 14.0 to have time for a least 2 models in each process.\n",
      "[WARNING] [2020-07-12 23:07:35,120:smac.runhistory.runhistory2epm.RunHistory2EPM4LogCost] Got cost of smaller/equal to 0. Replace by 0.000010 since we use log cost.\n",
      "===================================\n",
      "Autosk Only: Accuracy score - 0.7754010695187166\n",
      "Autosk with Featuretools: Accuracy score - 1.0\n"
     ]
    }
   ],
   "source": [
    "df = pd.read_csv(\"blood.csv\")\n",
    "target_ft = \"class\"\n",
    "run_test(df, target_ft, mode=2)"
   ]
  },
  {
   "cell_type": "code",
   "execution_count": null,
   "metadata": {},
   "outputs": [],
   "source": []
  }
 ],
 "metadata": {
  "kernelspec": {
   "display_name": "Python 3",
   "language": "python",
   "name": "python3"
  },
  "language_info": {
   "codemirror_mode": {
    "name": "ipython",
    "version": 3
   },
   "file_extension": ".py",
   "mimetype": "text/x-python",
   "name": "python",
   "nbconvert_exporter": "python",
   "pygments_lexer": "ipython3",
   "version": "3.6.9"
  }
 },
 "nbformat": 4,
 "nbformat_minor": 2
}
